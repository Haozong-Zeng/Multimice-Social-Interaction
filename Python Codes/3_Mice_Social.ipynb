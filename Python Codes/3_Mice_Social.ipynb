{
 "cells": [
  {
   "cell_type": "code",
   "execution_count": 1,
   "metadata": {},
   "outputs": [],
   "source": [
    "%reload_ext autoreload\n",
    "\n",
    "%autoreload 2\n",
    "import video_processing as vp\n",
    "import librain as lb\n",
    "import fnames\n",
    "import numpy as np\n",
    "from roipoly import RoiPoly \n",
    "import matplotlib.pyplot as plt\n",
    "import os\n",
    "from os.path import join, getsize, isfile, isdir\n",
    "import warnings\n",
    "import imreg_dft as ird\n",
    "from pathlib import Path\n",
    "from shapely.geometry import Point, Polygon\n",
    "from scipy.stats import pearsonr, ttest_ind\n",
    "import cv2\n",
    "from ssGMM import ss_GaussianMixtureModels\n",
    "from itertools import product\n",
    "import pandas as pd\n",
    "import copy\n",
    "import time\n",
    "import math\n",
    "import cv2\n",
    "import glob\n",
    "warnings.filterwarnings('ignore')\n"
   ]
  },
  {
   "cell_type": "markdown",
   "metadata": {},
   "source": [
    "## Constants"
   ]
  },
  {
   "cell_type": "code",
   "execution_count": 2,
   "metadata": {},
   "outputs": [],
   "source": [
    "WIDTH = 256 # GCaMP imaging width\n",
    "HEIGHT = 256 # GCaMP imaging height\n",
    "TRUE_FRAMERATE = 30 # Raspberry Pi Camera framerate per second\n",
    "BEHAVIOUR_FRAMERATE = 300 # High Speed Camera framerate per second\n",
    "TIME_WINDOW = 900 # Number of frames as window to compute the trend of correlations between difference mice"
   ]
  },
  {
   "cell_type": "markdown",
   "metadata": {},
   "source": [
    "## File paths"
   ]
  },
  {
   "cell_type": "code",
   "execution_count": 3,
   "metadata": {},
   "outputs": [],
   "source": [
    "path = 'C:/Users/Haozong/OneDrive/Dual Brain/Data/20230514/' # path to the pre-processed data, in which the frames before LED turns on have been removed\n",
    "\n",
    "l_mouse = path + '2023_5_14_16_L_919106.raw' # left mouse raw braing imaging data\n",
    "\n",
    "m_mouse = path + '2023_5_14_16_M_918051.raw' # middle (stationary) mouse raw braing imaging data\n",
    "\n",
    "r_mouse = path + '2023_5_14_16_R_918003.raw' # right mouse raw braing imaging data"
   ]
  },
  {
   "cell_type": "markdown",
   "metadata": {},
   "source": [
    "## Extract the color channels from the RAW files"
   ]
  },
  {
   "cell_type": "code",
   "execution_count": 4,
   "metadata": {},
   "outputs": [
    {
     "name": "stdout",
     "output_type": "stream",
     "text": [
      "(880607232,)\n",
      "4479.0\n",
      "(880607232,)\n",
      "4479.0\n",
      "(880607232,)\n",
      "4479.0\n",
      "(880607232,)\n",
      "4479.0\n",
      "(880607232,)\n",
      "4479.0\n",
      "(880607232,)\n",
      "4479.0\n"
     ]
    }
   ],
   "source": [
    "# left\n",
    "l_mouse_green_frames = vp.extract_RAW_frames(\n",
    "    filename=l_mouse,\n",
    "    channel='green',\n",
    "    width=WIDTH,\n",
    "    height=HEIGHT\n",
    ")\n",
    "\n",
    "\n",
    "\n",
    "# middle\n",
    "m_mouse_green_frames = vp.extract_RAW_frames(\n",
    "    filename=m_mouse,\n",
    "    channel='green',\n",
    "    width=WIDTH,\n",
    "    height=HEIGHT\n",
    ")\n",
    "\n",
    "\n",
    "\n",
    "# right\n",
    "r_mouse_green_frames = vp.extract_RAW_frames(\n",
    "    filename=r_mouse,\n",
    "    channel='green',\n",
    "    width=WIDTH,\n",
    "    height=HEIGHT\n",
    ")\n",
    "\n",
    "\n",
    "# left\n",
    "l_mouse_blue_frames = vp.extract_RAW_frames(\n",
    "    filename=l_mouse,\n",
    "    channel='blue',\n",
    "    width=WIDTH,\n",
    "    height=HEIGHT\n",
    ")\n",
    "\n",
    "# middle\n",
    "m_mouse_blue_frames = vp.extract_RAW_frames(\n",
    "    filename=m_mouse,\n",
    "    channel='blue',\n",
    "    width=WIDTH,\n",
    "    height=HEIGHT\n",
    ")\n",
    "\n",
    "# right\n",
    "r_mouse_blue_frames = vp.extract_RAW_frames(\n",
    "    filename=r_mouse,\n",
    "    channel='blue',\n",
    "    width=WIDTH,\n",
    "    height=HEIGHT\n",
    ")"
   ]
  },
  {
   "cell_type": "markdown",
   "metadata": {},
   "source": [
    "###  Calculate $\\frac{\\Delta F}{F _{0}}$\n",
    "#### Where:\n",
    "####     $F_{0}$ = $\\frac{1}{n}\\sum_{i=1}^{n} F_{i}$\n",
    "####     $\\Delta F$ = $F - F_{0}$"
   ]
  },
  {
   "cell_type": "code",
   "execution_count": 5,
   "metadata": {},
   "outputs": [],
   "source": [
    "l_mouse_green_frames, l_mouse_green_variance = vp.calculate_df_f0(l_mouse_green_frames)\n",
    "l_mouse_blue_frames, l_mouse_blue_variance = vp.calculate_df_f0(l_mouse_blue_frames)\n",
    "\n",
    "m_mouse_green_frames, m_mouse_green_variance = vp.calculate_df_f0(m_mouse_green_frames)\n",
    "m_mouse_blue_frames, m_mouse_blue_variance = vp.calculate_df_f0(m_mouse_blue_frames)\n",
    "\n",
    "r_mouse_green_frames, r_mouse_green_variance = vp.calculate_df_f0(r_mouse_green_frames)\n",
    "r_mouse_blue_frames, r_mouse_blue_variance = vp.calculate_df_f0(r_mouse_blue_frames)"
   ]
  },
  {
   "cell_type": "code",
   "execution_count": 6,
   "metadata": {},
   "outputs": [
    {
     "data": {
      "text/plain": [
       "[<matplotlib.lines.Line2D at 0x253ace36d30>]"
      ]
     },
     "execution_count": 6,
     "metadata": {},
     "output_type": "execute_result"
    },
    {
     "data": {
      "image/png": "[encoded data removed]",
      "text/plain": [
       "<Figure size 432x288 with 1 Axes>"
      ]
     },
     "metadata": {
      "needs_background": "light"
     },
     "output_type": "display_data"
    },
    {
     "data": {
      "image/png": "[encoded data removed]",
      "text/plain": [
       "<Figure size 432x288 with 1 Axes>"
      ]
     },
     "metadata": {
      "needs_background": "light"
     },
     "output_type": "display_data"
    }
   ],
   "source": [
    "plt.figure()\n",
    "plt.plot(np.nanmean(np.nanmean(l_mouse_green_frames, axis=2), axis=1))\n",
    "plt.plot(np.nanmean(np.nanmean(m_mouse_green_frames, axis=2), axis=1))\n",
    "plt.plot(np.nanmean(np.nanmean(r_mouse_green_frames, axis=2), axis=1))\n",
    "\n",
    "\n",
    "plt.figure()\n",
    "plt.plot(np.nanmean(np.nanmean(l_mouse_blue_frames, axis=2), axis=1))\n",
    "plt.plot(np.nanmean(np.nanmean(m_mouse_blue_frames, axis=2), axis=1))\n",
    "plt.plot(np.nanmean(np.nanmean(r_mouse_blue_frames, axis=2), axis=1))"
   ]
  },
  {
   "cell_type": "markdown",
   "metadata": {},
   "source": [
    "## Apply lfilter using chebychev type 1 filter parameters "
   ]
  },
  {
   "cell_type": "code",
   "execution_count": 7,
   "metadata": {},
   "outputs": [],
   "source": [
    "# initialise the filtering paramters by creating a Filter object\n",
    "low_limit = 0.01\n",
    "high_limit = 12.0\n",
    "\n",
    "filt = vp.Filter(\n",
    "    low_freq_cutoff=low_limit,\n",
    "    high_freq_cutoff=high_limit,\n",
    "    frame_rate=TRUE_FRAMERATE\n",
    ")\n",
    "\n",
    "# apply the filters\n",
    "l_mouse_green_frames = filt.filter(l_mouse_green_frames)\n",
    "m_mouse_green_frames = filt.filter(m_mouse_green_frames)\n",
    "r_mouse_green_frames = filt.filter(r_mouse_green_frames)\n",
    "l_mouse_blue_frames = filt.filter(l_mouse_blue_frames)\n",
    "m_mouse_blue_frames = filt.filter(m_mouse_blue_frames)\n",
    "r_mouse_blue_frames = filt.filter(r_mouse_blue_frames)"
   ]
  },
  {
   "cell_type": "markdown",
   "metadata": {},
   "source": [
    "## Ensure the frames have the same dimensions"
   ]
  },
  {
   "cell_type": "code",
   "execution_count": 8,
   "metadata": {},
   "outputs": [],
   "source": [
    "if l_mouse_green_frames.shape[0] != r_mouse_green_frames.shape[0]:\n",
    "    if l_mouse_green_frames.shape[0] < r_mouse_green_frames.shape[0]:\n",
    "        r_mouse_green_frames = r_mouse_green_frames[:l_mouse_green_frames.shape[0]]\n",
    "        r_mouse_blue_frames = r_mouse_blue_frames[:l_mouse_blue_frames.shape[0]]\n",
    "#         r_mouse_red_frames = r_mouse_red_frames[:l_mouse_red_frames_frames.shape[0]]\n",
    "    elif r_mouse_green_frames.shape[0] < l_mouse_green_frames.shape[0]:\n",
    "        l_mouse_green_frames = l_mouse_green_frames[:r_mouse_green_frames.shape[0]]\n",
    "        l_mouse_blue_frames = l_mouse_blue_frames[:r_mouse_blue_frames.shape[0]]\n",
    "#         l_mouse_red_frames = l_mouse_red_frames[:r_mouse_red_frames.shape[0]]\n",
    "\n",
    "assert l_mouse_green_frames.shape[0] == r_mouse_green_frames.shape[0]"
   ]
  },
  {
   "cell_type": "code",
   "execution_count": 9,
   "metadata": {},
   "outputs": [
    {
     "data": {
      "text/plain": [
       "[<matplotlib.lines.Line2D at 0x253acf823a0>]"
      ]
     },
     "execution_count": 9,
     "metadata": {},
     "output_type": "execute_result"
    },
    {
     "data": {
      "image/png": "[encoded data removed]",
      "text/plain": [
       "<Figure size 432x288 with 1 Axes>"
      ]
     },
     "metadata": {
      "needs_background": "light"
     },
     "output_type": "display_data"
    },
    {
     "data": {
      "image/png": "[encoded data removed]",
      "text/plain": [
       "<Figure size 432x288 with 1 Axes>"
      ]
     },
     "metadata": {
      "needs_background": "light"
     },
     "output_type": "display_data"
    }
   ],
   "source": [
    "plt.figure()\n",
    "plt.plot(np.nanmean(np.nanmean(l_mouse_green_frames, axis=2), axis=1))\n",
    "plt.plot(np.nanmean(np.nanmean(m_mouse_green_frames, axis=2), axis=1))\n",
    "plt.plot(np.nanmean(np.nanmean(r_mouse_green_frames, axis=2), axis=1))\n",
    "\n",
    "\n",
    "plt.figure()\n",
    "plt.plot(np.nanmean(np.nanmean(l_mouse_blue_frames, axis=2), axis=1))\n",
    "plt.plot(np.nanmean(np.nanmean(m_mouse_blue_frames, axis=2), axis=1))\n",
    "plt.plot(np.nanmean(np.nanmean(r_mouse_blue_frames, axis=2), axis=1))"
   ]
  },
  {
   "cell_type": "markdown",
   "metadata": {},
   "source": [
    "## Save processed frames "
   ]
  },
  {
   "cell_type": "code",
   "execution_count": 10,
   "metadata": {},
   "outputs": [],
   "source": [
    "def savevideo(data, filename, fps=TRUE_FRAMERATE):\n",
    "    # normalize data\n",
    "    global_min = -10\n",
    "    global_max = 10\n",
    "    data = np.clip(data, -10, 10)\n",
    "    norm_data = 255 * (data - global_min) / (global_max - global_min)\n",
    "    norm_data = norm_data.astype(np.uint8)\n",
    "    out = cv2.VideoWriter(filename+'.avi', cv2.VideoWriter_fourcc('I','4','2','0'), fps, (256, 256), False)\n",
    "    for i in range(norm_data.shape[0]):\n",
    "        frame = norm_data[i,:,:]\n",
    "        out.write(frame)\n",
    "    out.release()"
   ]
  },
  {
   "cell_type": "markdown",
   "metadata": {},
   "source": [
    "## Perform signal correction $\\frac{A}{B+1}$\n",
    "\n",
    "### Where:\n",
    "### A = $\\frac{\\Delta F}{F _{0}}$ from fluorescence\n",
    "### B = $\\frac{\\Delta F}{F _{0}}$ from reflectance"
   ]
  },
  {
   "cell_type": "code",
   "execution_count": 11,
   "metadata": {},
   "outputs": [],
   "source": [
    "# Note: sometimes the short blue LED is overheating or broken and the signal correction might return strange results!\n",
    "\n",
    "l_mouse_green_by_blue = vp.correct_channel_a_by_b(l_mouse_green_frames, l_mouse_blue_frames)\n",
    "\n",
    "m_mouse_green_by_blue = vp.correct_channel_a_by_b(m_mouse_green_frames, m_mouse_blue_frames)\n",
    "\n",
    "r_mouse_green_by_blue = vp.correct_channel_a_by_b(r_mouse_green_frames, r_mouse_blue_frames)"
   ]
  },
  {
   "cell_type": "code",
   "execution_count": 12,
   "metadata": {},
   "outputs": [
    {
     "data": {
      "text/plain": [
       "[<matplotlib.lines.Line2D at 0x253adfd0940>]"
      ]
     },
     "execution_count": 12,
     "metadata": {},
     "output_type": "execute_result"
    },
    {
     "data": {
      "image/png": "[encoded data removed]",
      "text/plain": [
       "<Figure size 432x288 with 1 Axes>"
      ]
     },
     "metadata": {
      "needs_background": "light"
     },
     "output_type": "display_data"
    }
   ],
   "source": [
    "plt.figure()\n",
    "plt.plot(np.nanmean(np.nanmean(l_mouse_green_by_blue, axis=2), axis=1))\n",
    "plt.plot(np.nanmean(np.nanmean(m_mouse_green_by_blue, axis=2), axis=1))\n",
    "plt.plot(np.nanmean(np.nanmean(r_mouse_green_by_blue, axis=2), axis=1))"
   ]
  },
  {
   "cell_type": "markdown",
   "metadata": {},
   "source": [
    "## Save corrected frames"
   ]
  },
  {
   "cell_type": "code",
   "execution_count": 13,
   "metadata": {},
   "outputs": [],
   "source": [
    "#savevideo(data=l_mouse_green_frames, filename='l_green_by_blue')"
   ]
  },
  {
   "cell_type": "code",
   "execution_count": 14,
   "metadata": {},
   "outputs": [],
   "source": [
    "#savevideo(data=m_mouse_green_by_blue, filename='m_green_by_blue')"
   ]
  },
  {
   "cell_type": "code",
   "execution_count": 15,
   "metadata": {},
   "outputs": [],
   "source": [
    "#savevideo(data=r_mouse_green_by_blue, filename='r_green_by_blue')"
   ]
  },
  {
   "cell_type": "markdown",
   "metadata": {},
   "source": [
    "## Semi-Supervised GMM"
   ]
  },
  {
   "cell_type": "markdown",
   "metadata": {},
   "source": [
    "This is just a rough semi-supervised brain region clustering method. For better and more sophisticated brain region clustering method, go to https://github.com/bf777/MesoNet refering the paper \"MesoNet allows automated scaling and segmentation of mouse mesoscale cortical maps using machine learning\" (Xiao et al, 2021)."
   ]
  },
  {
   "cell_type": "code",
   "execution_count": 16,
   "metadata": {},
   "outputs": [],
   "source": [
    "def RegionCluster(tensor, Xcenters_left, X_centers_right, ycenters_left, ycenters_right, region_of_interest_left, \\\n",
    "                    region_of_interest_right, corr_weight=10, d=1):\n",
    "    \n",
    "    \n",
    "    def HemisphereCluster(tensor, Xcenters, ycenters, region_of_interest, corr_weight, d):\n",
    "\n",
    "        '''\n",
    "        tensor: numpy array generated from brain imaging video, (frames, height, width)\n",
    "        Xcenters: coordinates of the human selected centers\n",
    "        ycenters: labels of the human selected centers\n",
    "        region_of_interest: Polygon(coordinates) generated from shapely.geometry and human effect\n",
    "        corr_weight: a scaling constant deciding the weight of correlations relative to spacial distances in clustering\n",
    "        d: extension of pixels from the centers chosen as labeled data\n",
    "        '''\n",
    "\n",
    "        # Construct a dataframe containing feature vectors that represent pixels. \n",
    "        # Columns are X coordinates, Y coordinates, aand the correlations with the labeled brain region centers.  \n",
    "        Xcenters = Xcenters\n",
    "        ycenters = ycenters\n",
    "        columns = ['x_coord', 'y_coord']\n",
    "        for label in ycenters:\n",
    "            columns.append(label+'_corr')\n",
    "        ynumbers = [i+3 for i in range(len(ycenters)-1)]\n",
    "        ynumbers.append(1)\n",
    "        df_label_number = pd.DataFrame({'ycenters': ycenters, 'ynumbers': ynumbers})\n",
    "        x_coord = []\n",
    "        y_coord = []\n",
    "        for i in range(tensor.shape[1]):\n",
    "            for j in range(tensor.shape[2]):\n",
    "                if Point(i, j).within(region_of_interest):\n",
    "                    x_coord.append(i)\n",
    "                    y_coord.append(j)\n",
    "        df_pixel = pd.DataFrame({'x_coord': x_coord, 'y_coord': y_coord})\n",
    "\n",
    "        for coord, label in zip(Xcenters, ycenters):\n",
    "            df_pixel[label+'_corr'] = np.zeros(len(df_pixel))\n",
    "            for i in range(len(df_pixel)):\n",
    "                df_pixel.loc[i, label+'_corr'] = corr_weight * np.corrcoef(tensor[:,df_pixel.loc[i, 'x_coord'],df_pixel.loc[i, 'y_coord']], \\\n",
    "                                                                           tensor[:,coord[0],coord[1]])[0,1]\n",
    "\n",
    "\n",
    "        # Generate Xtrain and ytrain data for the supervised part of GMM clustering\n",
    "        # Xtrain data contains the centers and their surrounding pixels, ytrain data is their labels (converted to numbers)\n",
    "        # Xtest data contains the rest unlabeled pixels\n",
    "        X_train = None\n",
    "        y_train = None\n",
    "        for coord, number in zip(Xcenters, ynumbers):\n",
    "            if number == 1:\n",
    "                d = d + 2\n",
    "                L = len(df_pixel[(df_pixel['x_coord']<=coord[0]+d)&(df_pixel['x_coord']>=coord[0]-d)& \\\n",
    "                    (df_pixel['y_coord']<=coord[1]+d)&(df_pixel['y_coord']>=coord[1]-d)])\n",
    "                if (X_train is None):\n",
    "                    X_train = np.array(df_pixel[(df_pixel['x_coord']<=coord[0]+d)&(df_pixel['x_coord']>=coord[0]-d)& \\\n",
    "                                        (df_pixel['y_coord']<=coord[1]+d)&(df_pixel['y_coord']>=coord[1]-d)])\n",
    "                else:\n",
    "                    X_train = np.vstack((X_train, np.array(df_pixel[(df_pixel['x_coord']<=coord[0]+d)&(df_pixel['x_coord']>=coord[0]-d)& \\\n",
    "                                        (df_pixel['y_coord']<=coord[1]+d)&(df_pixel['y_coord']>=coord[1]-d)])))\n",
    "                if (y_train is None):\n",
    "                    y_train = np.full((L, 1), number)\n",
    "                else:\n",
    "                    \n",
    "                    y_train = np.vstack((y_train, np.full((L, 1), number)))\n",
    "                d = d - 2\n",
    "            else:\n",
    "                L = len(df_pixel[(df_pixel['x_coord']<=coord[0]+d)&(df_pixel['x_coord']>=coord[0]-d)& \\\n",
    "                    (df_pixel['y_coord']<=coord[1]+d)&(df_pixel['y_coord']>=coord[1]-d)])\n",
    "                if (X_train is None):\n",
    "                    X_train = np.array(df_pixel[(df_pixel['x_coord']<=coord[0]+d)&(df_pixel['x_coord']>=coord[0]-d)& \\\n",
    "                                        (df_pixel['y_coord']<=coord[1]+d)&(df_pixel['y_coord']>=coord[1]-d)])\n",
    "                else:\n",
    "                    X_train = np.vstack((X_train, np.array(df_pixel[(df_pixel['x_coord']<=coord[0]+d)&(df_pixel['x_coord']>=coord[0]-d)& \\\n",
    "                                        (df_pixel['y_coord']<=coord[1]+d)&(df_pixel['y_coord']>=coord[1]-d)])))\n",
    "                if (y_train is None):\n",
    "                    y_train = np.full((L, 1), number)\n",
    "                else:\n",
    "                    y_train = np.vstack((y_train, np.full((L, 1), number)))\n",
    "        X_train = pd.DataFrame(X_train, columns=columns)\n",
    "        X_test = df_pixel.drop(X_train.index)\n",
    "        # Convert dataframe into numpy array\n",
    "        X_train = X_train.to_numpy()\n",
    "        X_test = X_test.to_numpy()\n",
    "        \n",
    "        \n",
    "        ss_GMMresults = ss_GaussianMixtureModels(X_train, y_train, X_test, beta=0.50, tol=0.1, max_iterations=20, early_stop='True')\n",
    "\n",
    "\n",
    "        # Assign labels to the unlabeled data and turn the whole dataset back to dataframe\n",
    "        data_train = np.hstack((X_train, y_train))\n",
    "        data_test = np.hstack((X_test, np.reshape(ss_GMMresults[0], (X_test.shape[0], 1))))\n",
    "        data = np.vstack((data_train, data_test))\n",
    "        columns.append('label')\n",
    "        df_data = pd.DataFrame(data, columns=columns)\n",
    "\n",
    "\n",
    "        # Put the results back into a graph matrix, with pixels belonging to same region have the same number\n",
    "        # Pixels outside region of interest will be set to 0 (dark)\n",
    "        graph_matrix = np.zeros((tensor.shape[1],tensor.shape[2]))\n",
    "        for i in range(tensor.shape[1]):\n",
    "            for j in range(tensor.shape[2]):\n",
    "                if ((df_data['x_coord']==i) & (df_data['y_coord']==j)).any():\n",
    "                    try:\n",
    "                        graph_matrix[i,j] = np.mean(df_data[(df_data['x_coord']==i)&(df_data['y_coord']==j)]['label'])\n",
    "                    except:\n",
    "                        print(df_data[(df_data['x_coord']==i)&(df_data['y_coord']==j)]['label'])\n",
    "\n",
    "        # Plot the results\n",
    "        #df_label_number\n",
    "        #plt.matshow(graph_matrix)\n",
    "        #plt.show()\n",
    "        '''\n",
    "        ssgmm: center + surroundings\n",
    "        note: clustering - high dimension, pca or not?\n",
    "        peripheral? -- choose the middle\n",
    "        left and right difference\n",
    "        loop - convergency?\n",
    "        try tsne - it might work? tune ssgmm based on tsne\n",
    "        make left and right same color, color setting\n",
    "        '''\n",
    "        return graph_matrix, df_data\n",
    "    \n",
    "    graph_matrix_left, df_data_left = HemisphereCluster(tensor, Xcenters_left, ycenters_left, region_of_interest_left, corr_weight, d)\n",
    "    graph_matrix_right, df_data_right = HemisphereCluster(tensor, Xcenters_right, ycenters_right, region_of_interest_right, corr_weight, d)\n",
    "    graph_matrix = np.zeros((tensor.shape[1],tensor.shape[2]))\n",
    "    for i in range(tensor.shape[1]):\n",
    "        for j in range(tensor.shape[2]):\n",
    "            if graph_matrix_left[i,j] == graph_matrix_right[i,j]:\n",
    "                graph_matrix[i,j] = graph_matrix_left[i,j]\n",
    "                df_data_right = df_data_right.drop(df_data_right[(df_data_right.x_coord == i) & (df_data_right.y_coord == j)].index)\n",
    "            elif graph_matrix_left[i,j] == 0 and graph_matrix_right[i,j] != 0:\n",
    "                graph_matrix[i,j] = graph_matrix_right[i,j]\n",
    "                df_data_left = df_data_left.drop(df_data_left[(df_data_left.x_coord == i) & (df_data_left.y_coord == j)].index)\n",
    "            elif graph_matrix_left[i,j] != 0 and graph_matrix_right[i,j] == 0:\n",
    "                graph_matrix[i,j] = graph_matrix_left[i,j]\n",
    "                df_data_right = df_data_right.drop(df_data_right[(df_data_right.x_coord == i) & (df_data_right.y_coord == j)].index)\n",
    "            else:\n",
    "                graph_matrix[i,j] = graph_matrix_left[i,j]\n",
    "                df_data_right = df_data_right.drop(df_data_right[(df_data_right.x_coord == i) & (df_data_right.y_coord == j)].index)\n",
    "    del graph_matrix_left, graph_matrix_right\n",
    "    \n",
    "    \n",
    "    df_data_left = df_data_left[['x_coord', 'y_coord', 'label']]\n",
    "    df_data_left['side'] = 'left'\n",
    "    df_data_right = df_data_right[['x_coord', 'y_coord', 'label']]\n",
    "    df_data_right['side'] = 'right'\n",
    "    df_data = pd.concat([df_data_left, df_data_right], axis=0, join='outer')\n",
    "    df_data.reset_index(drop=True, inplace=True)\n",
    "    \n",
    "    \n",
    "    return graph_matrix, df_data"
   ]
  },
  {
   "cell_type": "markdown",
   "metadata": {},
   "source": [
    "## Run the SSGMM on the data"
   ]
  },
  {
   "cell_type": "code",
   "execution_count": 17,
   "metadata": {},
   "outputs": [
    {
     "name": "stdout",
     "output_type": "stream",
     "text": [
      "Number of labeled data: 111\n",
      "Number of unlabeled data: 25827\n",
      "Number of labeled data: 111\n",
      "Number of unlabeled data: 27733\n"
     ]
    },
    {
     "data": {
      "image/png": "[encoded data removed]",
      "text/plain": [
       "<Figure size 432x288 with 2 Axes>"
      ]
     },
     "metadata": {
      "needs_background": "light"
     },
     "output_type": "display_data"
    }
   ],
   "source": [
    "# Set up the ROI polygon\n",
    "# For now just use Image-J macro to find the points\n",
    "\n",
    "\n",
    "coords_left = [(124,239),(104,252),(73,253),(38,252),(15,247),(3,230),(2,125),(18,81),(45,31),(67,10),(90,7),(111,14),(124,28)]\n",
    "region_of_interest_left = Polygon(coords_left)\n",
    "coords_right = [(124,28),(139,11),(166,4),(186,9),(206,26),(225,60),(254,114),(254,230),(242,245),(223,251),(154,253),(124,239)]\n",
    "region_of_interest_right = Polygon(coords_right)\n",
    "\n",
    "# Select Centers\n",
    "Xcenters_left = [[96,67],[72,69],[99,101],[60,142],[82,157],[93,176],[106,200],[27,148],[27,175],[59,227], \\\n",
    "           [124,144]]\n",
    "ycenters_left = ['M2','ALM','wM1','FL','HL','PtA','RS','aBC','pBC','V1', \\\n",
    "           'Base']\n",
    "Xcenters_right = []\n",
    "for i in range(len(Xcenters_left)-1):\n",
    "    center = Xcenters_left[-1]\n",
    "    coord = copy.deepcopy(Xcenters_left[i])\n",
    "    coord[0] = center[0]*2 - coord[0]\n",
    "    Xcenters_right.append(coord)\n",
    "Xcenters_right.append(Xcenters_left[-1])\n",
    "ycenters_right = ['M2','ALM','wM1','FL','HL','PtA','RS','aBC','pBC','V1', \\\n",
    "           'Base']\n",
    "\n",
    "\n",
    "graph_matrix_L, df_data_L = RegionCluster(l_mouse_green_by_blue, Xcenters_left, Xcenters_right, ycenters_left, ycenters_right, \\\n",
    "                                      region_of_interest_left, region_of_interest_right, corr_weight=5, d=1)\n",
    "\n",
    "plt.figure()\n",
    "plt.imshow(graph_matrix_L.T)\n",
    "plt.colorbar()\n",
    "plt.show()"
   ]
  },
  {
   "cell_type": "code",
   "execution_count": 18,
   "metadata": {},
   "outputs": [
    {
     "name": "stdout",
     "output_type": "stream",
     "text": [
      "Number of labeled data: 111\n",
      "Number of unlabeled data: 23265\n",
      "Number of labeled data: 111\n",
      "Number of unlabeled data: 26521\n"
     ]
    },
    {
     "data": {
      "image/png": "[encoded data removed]",
      "text/plain": [
       "<Figure size 432x288 with 2 Axes>"
      ]
     },
     "metadata": {
      "needs_background": "light"
     },
     "output_type": "display_data"
    }
   ],
   "source": [
    "# Set up the ROI polygon\n",
    "# For now just use Image-J macro to find the points\n",
    "\n",
    "\n",
    "coords_left = [(116,226),(100,246),(77,252),(25,251),(5,237),(0,198),(5,141),(26,76),(47,27),(68,7),(98,5),(108,15),(116,39)]\n",
    "region_of_interest_left = Polygon(coords_left)\n",
    "coords_right = [(116,39),(124,17),(155,3),(190,11),(224,97),(251,177),(248,224),(228,250),(168,251),(140,248),(116,226)]\n",
    "region_of_interest_right = Polygon(coords_right)\n",
    "\n",
    "# Select Centers\n",
    "Xcenters_left = [[90,69],[68,70],[93,102],[55,142],[74,156],[86,176],[99,200],[22,147],[22,177],[54,225], \\\n",
    "           [116,139]]\n",
    "ycenters_left = ['M2','ALM','wM1','FL','HL','PtA','RS','aBC','pBC','V1', \\\n",
    "           'Base']\n",
    "Xcenters_right = []\n",
    "for i in range(len(Xcenters_left)-1):\n",
    "    center = Xcenters_left[-1]\n",
    "    coord = copy.deepcopy(Xcenters_left[i])\n",
    "    coord[0] = center[0]*2 - coord[0]\n",
    "    Xcenters_right.append(coord)\n",
    "Xcenters_right.append(Xcenters_left[-1])\n",
    "ycenters_right = ['M2','ALM','wM1','FL','HL','PtA','RS','aBC','pBC','V1', \\\n",
    "           'Base']\n",
    "\n",
    "\n",
    "graph_matrix_M, df_data_M = RegionCluster(m_mouse_green_by_blue, Xcenters_left, Xcenters_right, ycenters_left, ycenters_right, \\\n",
    "                                      region_of_interest_left, region_of_interest_right, corr_weight=5, d=1)\n",
    "\n",
    "plt.figure()\n",
    "plt.imshow(graph_matrix_M.T)\n",
    "plt.colorbar()\n",
    "plt.show()"
   ]
  },
  {
   "cell_type": "code",
   "execution_count": 19,
   "metadata": {
    "scrolled": false
   },
   "outputs": [
    {
     "name": "stdout",
     "output_type": "stream",
     "text": [
      "Number of labeled data: 111\n",
      "Number of unlabeled data: 24887\n",
      "Number of labeled data: 111\n",
      "Number of unlabeled data: 25520\n"
     ]
    },
    {
     "data": {
      "image/png": "[encoded data removed]",
      "text/plain": [
       "<Figure size 432x288 with 2 Axes>"
      ]
     },
     "metadata": {
      "needs_background": "light"
     },
     "output_type": "display_data"
    }
   ],
   "source": [
    "# Set up the ROI polygon\n",
    "# For now just use Image-J macro to find the points\n",
    "\n",
    "\n",
    "coords_left = [(128,236),(116,254),(29,253),(8,242),(2,220),(5,143),(44,41),(72,20),(95,18),(116,30),(128,62)]\n",
    "region_of_interest_left = Polygon(coords_left)\n",
    "coords_right = [(128,62),(139,30),(163,18),(195,22),(215,49),(248,110),(255,144),(255,224),(250,243),(227,252),(145,253),(128,236)]\n",
    "region_of_interest_right = Polygon(coords_right)\n",
    "\n",
    "\n",
    "# Select Centers\n",
    "Xcenters_left = [[102,74],[79,75],[104,109],[66,148],[86,162],[98,182],[111,207],[32,155],[32,182],[64,233], \\\n",
    "           [128,157]]\n",
    "ycenters_left = ['M2','ALM','wM1','FL','HL','PtA','RS','aBC','pBC','V1', \\\n",
    "           'Base']\n",
    "Xcenters_right = []\n",
    "for i in range(len(Xcenters_left)-1):\n",
    "    center = Xcenters_left[-1]\n",
    "    coord = copy.deepcopy(Xcenters_left[i])\n",
    "    coord[0] = center[0]*2 - coord[0]\n",
    "    Xcenters_right.append(coord)\n",
    "Xcenters_right.append(Xcenters_left[-1])\n",
    "ycenters_right = ['M2','ALM','wM1','FL','HL','PtA','RS','aBC','pBC','V1', \\\n",
    "           'Base']\n",
    "\n",
    "\n",
    "graph_matrix_R, df_data_R = RegionCluster(r_mouse_green_by_blue, Xcenters_left, Xcenters_right, ycenters_left, ycenters_right, \\\n",
    "                                      region_of_interest_left, region_of_interest_right, corr_weight=5, d=1)\n",
    "\n",
    "plt.figure()\n",
    "plt.imshow(graph_matrix_R.T)\n",
    "plt.colorbar()\n",
    "plt.show()"
   ]
  },
  {
   "cell_type": "markdown",
   "metadata": {},
   "source": [
    "## Interaction Window & Order"
   ]
  },
  {
   "cell_type": "code",
   "execution_count": 20,
   "metadata": {},
   "outputs": [],
   "source": [
    "interaction_window = [(520,1395), (1816,2691), (3113,3988)]\n",
    "interaction_order = ['Left(cagemate) & Middle', 'Rest', 'Right(novel) & Middle']"
   ]
  },
  {
   "cell_type": "markdown",
   "metadata": {},
   "source": [
    "## Perform Regional Correlation Analysis"
   ]
  },
  {
   "cell_type": "code",
   "execution_count": 21,
   "metadata": {},
   "outputs": [],
   "source": [
    "def RegionCorrelation(region_left, region_middle, region_right, tensor_left, tensor_middle, tensor_right, \\\n",
    "                      interaction_window, interaction_order, title=''):\n",
    "    '''\n",
    "    region_left / middle / right: a set of coordinates representing a specific region in the animal (DataFrame)\n",
    "    tensor_left / middle / right: the processed brain imaging video of the animal (DataFrame)\n",
    "    '''\n",
    "    corr_list_ML = []\n",
    "    corr_list_MR = []\n",
    "    corr_list_LR = []\n",
    "    for window, order in zip(interaction_window, interaction_order): \n",
    "        left_sample = []\n",
    "        middle_sample = []\n",
    "        right_sample = []\n",
    "        for i in range(window[0], window[1]):\n",
    "            left_points = []\n",
    "            middle_points = []\n",
    "            right_points = []\n",
    "            for x_coord, y_coord in zip(region_left['x_coord'], region_left['y_coord']):\n",
    "                left_points.append(tensor_left[i, int(x_coord), int(y_coord)])\n",
    "            for x_coord, y_coord in zip(region_middle['x_coord'], region_middle['y_coord']):\n",
    "                middle_points.append(tensor_middle[i, int(x_coord), int(y_coord)])\n",
    "            for x_coord, y_coord in zip(region_right['x_coord'], region_right['y_coord']):\n",
    "                right_points.append(tensor_right[i, int(x_coord), int(y_coord)])\n",
    "            left_sample.append(np.mean(left_points))\n",
    "            middle_sample.append(np.mean(middle_points))\n",
    "            right_sample.append(np.mean(right_points))\n",
    "        corr_list_ML.append(np.corrcoef(left_sample, middle_sample)[0,1])\n",
    "        corr_list_MR.append(np.corrcoef(right_sample, middle_sample)[0,1])\n",
    "        corr_list_LR.append(np.corrcoef(right_sample, left_sample)[0,1])\n",
    "    \n",
    "    fig, ax = plt.subplots()\n",
    "    fig.set_size_inches(16, 9)\n",
    "    ax.set_title(title)\n",
    "    ax.set_xlabel('Interactions')\n",
    "    ax.set_ylabel('Correlations: delta F / F_0')\n",
    "    fig.tight_layout()\n",
    "    plt.rcParams['savefig.dpi'] = 500\n",
    "    plt.rcParams['figure.dpi'] = 500\n",
    "    plt.ylim(-1, 1)\n",
    "    bar_width = 0.2\n",
    "    x = np.arange(3)\n",
    "    y1 = []\n",
    "    y2 = []\n",
    "    y3 = []\n",
    "    tick_label = []\n",
    "    i = 1\n",
    "    for corr_ML, corr_MR, corr_LR, order in zip(corr_list_ML, corr_list_MR, corr_list_LR, interaction_order):\n",
    "        y1.append(copy.deepcopy(corr_ML))\n",
    "        y2.append(copy.deepcopy(corr_MR))\n",
    "        y3.append(copy.deepcopy(corr_LR))\n",
    "        tick_label.append(copy.deepcopy(order))\n",
    "    plt.bar(x, y1, width=bar_width, color='red',label='Middle and Left')\n",
    "    plt.bar(x+bar_width, y2, width=bar_width, color='green',label='Middle and Right')\n",
    "    plt.bar(x+bar_width*2, y3, width=bar_width, color='blue',label='Left and Right')\n",
    "    plt.xticks(x+bar_width, tick_label)\n",
    "    plt.legend()\n",
    "    plt.savefig(title + '.png', bbox_inches='tight')\n",
    "    plt.show()\n",
    "    df = pd.DataFrame({'Middle and Left':corr_list_ML, 'Middle and Right':corr_list_MR, 'Left and Right': corr_list_LR})\n",
    "    df.to_csv(title+'.csv')\n",
    "    \n",
    "    return corr_list_ML, corr_list_MR, corr_list_LR"
   ]
  },
  {
   "cell_type": "code",
   "execution_count": 22,
   "metadata": {},
   "outputs": [],
   "source": [
    "def RegionActivity(region_left, region_middle, region_right, tensor_left, tensor_middle, tensor_right, \\\n",
    "                      interaction_window, interaction_order, title=''):\n",
    "    '''\n",
    "    region_left / middle / right: a set of coordinates representing a specific region in the animal (DataFrame)\n",
    "    tensor_left / middle / right: the processed brain imaging video of the animal (DataFrame)\n",
    "    '''\n",
    "    activity_series_L = []\n",
    "    activity_series_M = []\n",
    "    activity_series_R = []\n",
    "    for i in range(tensor_middle.shape[0]):\n",
    "        left_points = []\n",
    "        middle_points = []\n",
    "        right_points = []\n",
    "        for x_coord, y_coord in zip(region_left['x_coord'], region_left['y_coord']):\n",
    "            left_points.append(tensor_left[i, int(x_coord), int(y_coord)])\n",
    "        for x_coord, y_coord in zip(region_middle['x_coord'], region_middle['y_coord']):\n",
    "            middle_points.append(tensor_middle[i, int(x_coord), int(y_coord)])\n",
    "        for x_coord, y_coord in zip(region_right['x_coord'], region_right['y_coord']):\n",
    "            right_points.append(tensor_right[i, int(x_coord), int(y_coord)])\n",
    "        activity_series_L.append(np.mean(left_points))\n",
    "        activity_series_M.append(np.mean(middle_points))\n",
    "        activity_series_R.append(np.mean(right_points))\n",
    "    \n",
    "    for i in range(2):\n",
    "        fig, ax = plt.subplots()\n",
    "        fig.set_size_inches(20, 5)\n",
    "        ax.set_title(title)\n",
    "        ax.set_ylabel('Corrected Signals: delta F / F_0')\n",
    "        fig.tight_layout()\n",
    "        plt.rcParams['savefig.dpi'] = 500\n",
    "        plt.rcParams['figure.dpi'] = 500\n",
    "        upper = np.max([np.max(activity_series_L), np.max(activity_series_M), np.max(activity_series_R)])*1.1\n",
    "        lower = np.min([np.min(activity_series_L), np.min(activity_series_M), np.min(activity_series_R)])*1.1\n",
    "        plt.xlim((2500*i, 2500*(i+1)))\n",
    "        plt.ylim(lower, upper)\n",
    "        plt.plot(np.arange(0,tensor_middle.shape[0],1)[2500*i:2500*(i+1)], \\\n",
    "                 activity_series_L[2500*i:2500*(i+1)], color='red', label='Left')\n",
    "        plt.plot(np.arange(0,tensor_middle.shape[0],1)[2500*i:2500*(i+1)], \\\n",
    "                 activity_series_M[2500*i:2500*(i+1)], color='green', label='Middle')\n",
    "        plt.plot(np.arange(0,tensor_middle.shape[0],1)[2500*i:2500*(i+1)], \\\n",
    "                 activity_series_R[2500*i:2500*(i+1)], color='blue', label='Right')\n",
    "        plt.legend()\n",
    "        upper = np.max([np.max(activity_series_L), np.max(activity_series_M), np.max(activity_series_R)])*1.1\n",
    "        lower = np.min([np.min(activity_series_L), np.min(activity_series_M), np.min(activity_series_R)])*1.1\n",
    "        for window, order in zip(interaction_window, interaction_order):\n",
    "            x = [i for i in range(window[0], window[1])]\n",
    "            y1 = [float(int(upper)+1) for i in range(window[0], window[1])]\n",
    "            y2 = [float(int(lower)-1) for i in range(window[0], window[1])]\n",
    "            if 'Left' in order:\n",
    "                c = 'pink'\n",
    "            elif order =='Rest':\n",
    "                c = 'gray'\n",
    "            else:\n",
    "                c = 'skyblue'\n",
    "            plt.fill_between(x, y1, y2, facecolor=c, edgecolor='black', alpha=0.2, label=order)\n",
    "        plt.legend()\n",
    "        plt.savefig(title + ' (' + str(i+1) + ').png', bbox_inches='tight')\n",
    "        \n",
    "        #df_L = pd.DataFrame({'activity':activity_series_L})\n",
    "        #path_L = copy.deepcopy(l_mouse)\n",
    "        #path_L = path_L.replace('.raw', '_'+title+'.csv')\n",
    "        #df_L.to_csv(path_L)\n",
    "        #df_M = pd.DataFrame({'activity':activity_series_M})\n",
    "        #path_M = copy.deepcopy(m_mouse)\n",
    "        #path_M = path_M.replace('.raw', '_'+title+'.csv')\n",
    "        #df_M.to_csv(path_M)\n",
    "        #df_R = pd.DataFrame({'activity':activity_series_R})\n",
    "        #path_R = copy.deepcopy(r_mouse)\n",
    "        #path_R = path_R.replace('.raw', '_'+title+'.csv')\n",
    "        #df_R.to_csv(path_R)\n",
    "        \n",
    "    return activity_series_L, activity_series_M, activity_series_R"
   ]
  },
  {
   "cell_type": "code",
   "execution_count": 23,
   "metadata": {},
   "outputs": [],
   "source": [
    "def RegionCorrelationTrend(region_left, region_middle, region_right, tensor_left, tensor_middle, tensor_right, \\\n",
    "                      interaction_window, interaction_order, period=TIME_WINDOW, title=''):\n",
    "    '''\n",
    "    region_left / middle / right: a set of coordinates representing a specific region in the animal (DataFrame)\n",
    "    tensor_left / middle / right: the processed brain imaging video of the animal (DataFrame)\n",
    "    '''\n",
    "    corr_series_ML = []\n",
    "    corr_series_MR = []\n",
    "    corr_series_LR = []\n",
    "    for k in range(int(period/2)):\n",
    "        corr_series_ML.append(np.nan)\n",
    "        corr_series_MR.append(np.nan)\n",
    "        corr_series_LR.append(np.nan)\n",
    "    for i in range(tensor_middle.shape[0]-period):\n",
    "        left_sample = []\n",
    "        middle_sample = []\n",
    "        right_sample = []\n",
    "        for j in range(period):\n",
    "            left_points = []\n",
    "            middle_points = []\n",
    "            right_points = []\n",
    "            for x_coord, y_coord in zip(region_left['x_coord'], region_left['y_coord']):\n",
    "                left_points.append(tensor_left[i+j, int(x_coord), int(y_coord)])\n",
    "            for x_coord, y_coord in zip(region_middle['x_coord'], region_middle['y_coord']):\n",
    "                middle_points.append(tensor_middle[i+j, int(x_coord), int(y_coord)])\n",
    "            for x_coord, y_coord in zip(region_right['x_coord'], region_right['y_coord']):\n",
    "                right_points.append(tensor_right[i+j, int(x_coord), int(y_coord)])\n",
    "            left_sample.append(np.mean(left_points))\n",
    "            middle_sample.append(np.mean(middle_points))\n",
    "            right_sample.append(np.mean(right_points))\n",
    "        corr_series_ML.append(np.corrcoef(left_sample, middle_sample)[0,1])\n",
    "        corr_series_MR.append(np.corrcoef(right_sample, middle_sample)[0,1])\n",
    "        corr_series_LR.append(np.corrcoef(right_sample, left_sample)[0,1])\n",
    "    for k in range(period - int(period/2)):\n",
    "        corr_series_ML.append(np.nan)\n",
    "        corr_series_MR.append(np.nan)\n",
    "        corr_series_LR.append(np.nan)\n",
    "    \n",
    "\n",
    "    fig, ax = plt.subplots()\n",
    "    fig.set_size_inches(40, 6)\n",
    "    ax.set_title(title, fontsize=12)\n",
    "    ax.set_ylabel('Pearson correlation +/- ' + '{:.3}'.format(period/30) + ' sec')\n",
    "    fig.tight_layout()\n",
    "    plt.rcParams['savefig.dpi'] = 45\n",
    "    plt.rcParams['figure.dpi'] = 45\n",
    "    plt.xlim((0, tensor_middle.shape[0]))\n",
    "    plt.ylim((-1, 1))\n",
    "    plt.plot(np.arange(0,tensor_middle.shape[0],1), \\\n",
    "             corr_series_ML, color='red', label='Middle and Left')\n",
    "    plt.plot(np.arange(0,tensor_middle.shape[0],1), \\\n",
    "             corr_series_MR, color='green', label='Middle and Right')\n",
    "    #plt.plot(np.arange(0,tensor_middle.shape[0],1), \\\n",
    "             #corr_series_LR, color='blue', label='Left and Right')\n",
    "    plt.legend()\n",
    "    for window, order in zip(interaction_window, interaction_order):\n",
    "        x = [i for i in range(window[0], window[1])]\n",
    "        y1 = [1 for i in range(window[0], window[1])]\n",
    "        y2 = [-1 for i in range(window[0], window[1])]\n",
    "        if order == 'L & M':\n",
    "            c = 'pink'\n",
    "        elif order =='Rest':\n",
    "            c = 'gray'\n",
    "        else:\n",
    "            c = 'skyblue'\n",
    "        plt.fill_between(x, y1, y2, facecolor=c, edgecolor='black', alpha=0.2, label=order)\n",
    "    plt.legend()\n",
    "    plt.savefig(title + '_correlation_trend.png', bbox_inches='tight')\n",
    "    \n",
    "    # save a series of images with a vertical line representing time\n",
    "    # check if path exists\n",
    "    path = title + '_correlation_trend'\n",
    "    if os.path.exists(path):\n",
    "        pass\n",
    "    else:\n",
    "        os.makedirs(path)\n",
    "    \n",
    "    plot_no = 0\n",
    "    for i in range(tensor_middle.shape[0]):\n",
    "        line=ax.axvline(i, color='black', markeredgewidth=12, markersize=12)\n",
    "        fig.savefig(path+'/' + title + '_correlation_trend_{plot_no:04d}.jpg'.format(plot_no=plot_no))\n",
    "        plot_no += 1\n",
    "        plt.pause(0.001)  # added\n",
    "        line.remove()   # added\n",
    "    \n",
    "    # images to video\n",
    "    img_array = []\n",
    "    for filename in glob.glob('./' + path + '/*.jpg'):\n",
    "        img = cv2.imread(filename)\n",
    "        height, width, layers = img.shape\n",
    "        size = (width, height)\n",
    "        img_array.append(img)\n",
    "        os.remove(filename)\n",
    "    \n",
    "\n",
    "    out = cv2.VideoWriter(title+'.mp4', cv2.VideoWriter_fourcc(*'MP4V'), TRUE_FRAMERATE, size)\n",
    "    for i in range(len(img_array)):\n",
    "        out.write(img_array[i])\n",
    "    out.release()\n",
    "    del img_array\n",
    "    \n",
    "    #return corr_series_ML, corr_series_MR, corr_series_LR"
   ]
  },
  {
   "cell_type": "markdown",
   "metadata": {},
   "source": [
    "## V1"
   ]
  },
  {
   "cell_type": "code",
   "execution_count": 24,
   "metadata": {},
   "outputs": [],
   "source": [
    "df_R_V1_left = df_data_R[(df_data_R['side']=='left')&(df_data_R['label']==12)]\n",
    "df_M_V1_left = df_data_M[(df_data_M['side']=='left')&(df_data_M['label']==12)]\n",
    "df_L_V1_left = df_data_L[(df_data_L['side']=='left')&(df_data_L['label']==12)]\n",
    "df_R_V1_right = df_data_R[(df_data_R['side']=='right')&(df_data_R['label']==12)]\n",
    "df_M_V1_right = df_data_M[(df_data_M['side']=='right')&(df_data_M['label']==12)]\n",
    "df_L_V1_right = df_data_L[(df_data_L['side']=='right')&(df_data_L['label']==12)]"
   ]
  },
  {
   "cell_type": "code",
   "execution_count": null,
   "metadata": {},
   "outputs": [],
   "source": [
    "activity_series_L, activity_series_M, activity_series_R = RegionActivity(df_L_V1_left, df_M_V1_left, df_R_V1_left, \\\n",
    "               l_mouse_green_by_blue, m_mouse_green_by_blue, r_mouse_green_by_blue, \\\n",
    "               interaction_window, interaction_order, \\\n",
    "               title='Activities V1 left')"
   ]
  },
  {
   "cell_type": "code",
   "execution_count": null,
   "metadata": {},
   "outputs": [],
   "source": [
    "corr_series_ML, corr_series_MR, corr_series_LR = RegionCorrelation(df_L_V1_left, df_M_V1_left, df_R_V1_left, \\\n",
    "                                                                   l_mouse_green_by_blue, m_mouse_green_by_blue, r_mouse_green_by_blue, \\\n",
    "                                                                   interaction_window, interaction_order, \\\n",
    "                                                                   title='V1 left')"
   ]
  },
  {
   "cell_type": "code",
   "execution_count": null,
   "metadata": {},
   "outputs": [],
   "source": [
    "RegionCorrelationTrend(df_L_V1_left, df_M_V1_left, df_R_V1_left, \\\n",
    "                                                                   l_mouse_green_by_blue, m_mouse_green_by_blue, r_mouse_green_by_blue, \\\n",
    "                                                                   interaction_window, interaction_order, \\\n",
    "                                                                   title='V1 left')"
   ]
  },
  {
   "cell_type": "code",
   "execution_count": null,
   "metadata": {},
   "outputs": [],
   "source": [
    "activity_series_L, activity_series_M, activity_series_R = RegionActivity(df_L_V1_right, df_M_V1_right, df_R_V1_right, \\\n",
    "               l_mouse_green_by_blue, m_mouse_green_by_blue, r_mouse_green_by_blue, \\\n",
    "               interaction_window, interaction_order, \\\n",
    "               title='Activities V1 right')"
   ]
  },
  {
   "cell_type": "code",
   "execution_count": null,
   "metadata": {},
   "outputs": [],
   "source": [
    "corr_series_ML, corr_series_MR, corr_series_LR = RegionCorrelation(df_L_V1_right, df_M_V1_right, df_R_V1_right, \\\n",
    "                                                                   l_mouse_green_by_blue, m_mouse_green_by_blue, r_mouse_green_by_blue, \\\n",
    "                                                                   interaction_window, interaction_order, \\\n",
    "                                                                   title='V1 right')"
   ]
  },
  {
   "cell_type": "code",
   "execution_count": null,
   "metadata": {},
   "outputs": [],
   "source": [
    "RegionCorrelationTrend(df_L_V1_right, df_M_V1_right, df_R_V1_right, \\\n",
    "                                                                   l_mouse_green_by_blue, m_mouse_green_by_blue, r_mouse_green_by_blue, \\\n",
    "                                                                   interaction_window, interaction_order, \\\n",
    "                                                                   title='V1 right')"
   ]
  },
  {
   "cell_type": "markdown",
   "metadata": {},
   "source": [
    "## pBC"
   ]
  },
  {
   "cell_type": "code",
   "execution_count": 33,
   "metadata": {},
   "outputs": [],
   "source": [
    "df_R_pBC_left = df_data_R[(df_data_R['side']=='left')&(df_data_R['label']==11)]\n",
    "df_M_pBC_left = df_data_M[(df_data_M['side']=='left')&(df_data_M['label']==11)]\n",
    "df_L_pBC_left = df_data_L[(df_data_L['side']=='left')&(df_data_L['label']==11)]\n",
    "df_R_pBC_right = df_data_R[(df_data_R['side']=='right')&(df_data_R['label']==11)]\n",
    "df_M_pBC_right = df_data_M[(df_data_M['side']=='right')&(df_data_M['label']==11)]\n",
    "df_L_pBC_right = df_data_L[(df_data_L['side']=='right')&(df_data_L['label']==11)]"
   ]
  },
  {
   "cell_type": "code",
   "execution_count": null,
   "metadata": {},
   "outputs": [],
   "source": [
    "activity_series_L, activity_series_M, activity_series_R = RegionActivity(df_L_pBC_left, df_M_pBC_left, df_R_pBC_left, \\\n",
    "                                                                   l_mouse_green_by_blue, m_mouse_green_by_blue, r_mouse_green_by_blue, \\\n",
    "                                                                   interaction_window, interaction_order, \\\n",
    "                                                                   title='Activities pBC left')"
   ]
  },
  {
   "cell_type": "code",
   "execution_count": null,
   "metadata": {},
   "outputs": [],
   "source": [
    "corr_series_ML, corr_series_MR, corr_series_LR = RegionCorrelation(df_L_pBC_left, df_M_pBC_left, df_R_pBC_left, \\\n",
    "                                                                   l_mouse_green_by_blue, m_mouse_green_by_blue, r_mouse_green_by_blue, \\\n",
    "                                                                   interaction_window, interaction_order, \\\n",
    "                                                                   title='pBC left')"
   ]
  },
  {
   "cell_type": "code",
   "execution_count": null,
   "metadata": {},
   "outputs": [],
   "source": [
    "RegionCorrelationTrend(df_L_pBC_left, df_M_pBC_left, df_R_pBC_left, \\\n",
    "                                                                   l_mouse_green_by_blue, m_mouse_green_by_blue, r_mouse_green_by_blue, \\\n",
    "                                                                   interaction_window, interaction_order, \\\n",
    "                                                                   title='pBC left')"
   ]
  },
  {
   "cell_type": "code",
   "execution_count": null,
   "metadata": {},
   "outputs": [],
   "source": [
    "activity_series_L, activity_series_M, activity_series_R = RegionActivity(df_L_pBC_right, df_M_pBC_right, df_R_pBC_right, \\\n",
    "                                                                   l_mouse_green_by_blue, m_mouse_green_by_blue, r_mouse_green_by_blue, \\\n",
    "                                                                   interaction_window, interaction_order, \\\n",
    "                                                                   title='Activities pBC right')"
   ]
  },
  {
   "cell_type": "code",
   "execution_count": null,
   "metadata": {},
   "outputs": [],
   "source": [
    "corr_series_ML, corr_series_MR, corr_series_LR = RegionCorrelation(df_L_pBC_right, df_M_pBC_right, df_R_pBC_right, \\\n",
    "                                                                   l_mouse_green_by_blue, m_mouse_green_by_blue, r_mouse_green_by_blue, \\\n",
    "                                                                   interaction_window, interaction_order, \\\n",
    "                                                                   title='pBC right')"
   ]
  },
  {
   "cell_type": "code",
   "execution_count": null,
   "metadata": {},
   "outputs": [],
   "source": [
    "RegionCorrelationTrend(df_L_pBC_right, df_M_pBC_right, df_R_pBC_right, \\\n",
    "                                                                   l_mouse_green_by_blue, m_mouse_green_by_blue, r_mouse_green_by_blue, \\\n",
    "                                                                   interaction_window, interaction_order, \\\n",
    "                                                                   title='Activities pBC right')"
   ]
  },
  {
   "cell_type": "markdown",
   "metadata": {},
   "source": [
    "## aBC"
   ]
  },
  {
   "cell_type": "code",
   "execution_count": 40,
   "metadata": {},
   "outputs": [],
   "source": [
    "df_R_aBC_left = df_data_R[(df_data_R['side']=='left')&(df_data_R['label']==10)]\n",
    "df_M_aBC_left = df_data_M[(df_data_M['side']=='left')&(df_data_M['label']==10)]\n",
    "df_L_aBC_left = df_data_L[(df_data_L['side']=='left')&(df_data_L['label']==10)]\n",
    "df_R_aBC_right = df_data_R[(df_data_R['side']=='right')&(df_data_R['label']==10)]\n",
    "df_M_aBC_right = df_data_M[(df_data_M['side']=='right')&(df_data_M['label']==10)]\n",
    "df_L_aBC_right = df_data_L[(df_data_L['side']=='right')&(df_data_L['label']==10)]"
   ]
  },
  {
   "cell_type": "code",
   "execution_count": null,
   "metadata": {},
   "outputs": [],
   "source": [
    "activity_series_L, activity_series_M, activity_series_R = RegionActivity(df_L_aBC_left, df_M_aBC_left, df_R_aBC_left, \\\n",
    "                                                                   l_mouse_green_by_blue, m_mouse_green_by_blue, r_mouse_green_by_blue, \\\n",
    "                                                                   interaction_window, interaction_order, \\\n",
    "                                                                   title='Activities aBC left')"
   ]
  },
  {
   "cell_type": "code",
   "execution_count": null,
   "metadata": {},
   "outputs": [],
   "source": [
    "corr_series_ML, corr_series_MR, corr_series_LR = RegionCorrelation(df_L_aBC_left, df_M_aBC_left, df_R_aBC_left, \\\n",
    "                                                                   l_mouse_green_by_blue, m_mouse_green_by_blue, r_mouse_green_by_blue, \\\n",
    "                                                                   interaction_window, interaction_order, \\\n",
    "                                                                   title='aBC left')"
   ]
  },
  {
   "cell_type": "code",
   "execution_count": null,
   "metadata": {},
   "outputs": [],
   "source": [
    "RegionCorrelationTrend(df_L_aBC_left, df_M_aBC_left, df_R_aBC_left, \\\n",
    "                                                                   l_mouse_green_by_blue, m_mouse_green_by_blue, r_mouse_green_by_blue, \\\n",
    "                                                                   interaction_window, interaction_order, \\\n",
    "                                                                   title='aBC left')"
   ]
  },
  {
   "cell_type": "code",
   "execution_count": null,
   "metadata": {},
   "outputs": [],
   "source": [
    "activity_series_L, activity_series_M, activity_series_R = RegionActivity(df_L_aBC_right, df_M_aBC_right, df_R_aBC_right, \\\n",
    "                                                                   l_mouse_green_by_blue, m_mouse_green_by_blue, r_mouse_green_by_blue, \\\n",
    "                                                                   interaction_window, interaction_order, \\\n",
    "                                                                   title='Activities aBC right')"
   ]
  },
  {
   "cell_type": "code",
   "execution_count": null,
   "metadata": {},
   "outputs": [],
   "source": [
    "corr_series_ML, corr_series_MR, corr_series_LR = RegionCorrelation(df_L_aBC_right, df_M_aBC_right, df_R_aBC_right, \\\n",
    "                                                                   l_mouse_green_by_blue, m_mouse_green_by_blue, r_mouse_green_by_blue, \\\n",
    "                                                                   interaction_window, interaction_order, \\\n",
    "                                                                   title='aBC right')"
   ]
  },
  {
   "cell_type": "code",
   "execution_count": null,
   "metadata": {},
   "outputs": [],
   "source": [
    "RegionCorrelationTrend(df_L_aBC_right, df_M_aBC_right, df_R_aBC_right, \\\n",
    "                                                                   l_mouse_green_by_blue, m_mouse_green_by_blue, r_mouse_green_by_blue, \\\n",
    "                                                                   interaction_window, interaction_order, \\\n",
    "                                                                   title='aBC right')"
   ]
  },
  {
   "cell_type": "markdown",
   "metadata": {},
   "source": [
    "## RS"
   ]
  },
  {
   "cell_type": "code",
   "execution_count": 47,
   "metadata": {},
   "outputs": [],
   "source": [
    "df_R_RS_left = df_data_R[(df_data_R['side']=='left')&(df_data_R['label']==9)]\n",
    "df_M_RS_left = df_data_M[(df_data_M['side']=='left')&(df_data_M['label']==9)]\n",
    "df_L_RS_left = df_data_L[(df_data_L['side']=='left')&(df_data_L['label']==9)]\n",
    "df_R_RS_right = df_data_R[(df_data_R['side']=='right')&(df_data_R['label']==9)]\n",
    "df_M_RS_right = df_data_M[(df_data_M['side']=='right')&(df_data_M['label']==9)]\n",
    "df_L_RS_right = df_data_L[(df_data_L['side']=='right')&(df_data_L['label']==9)]"
   ]
  },
  {
   "cell_type": "code",
   "execution_count": null,
   "metadata": {},
   "outputs": [],
   "source": [
    "activity_series_L, activity_series_M, activity_series_R = RegionActivity(df_L_RS_left, df_M_RS_left, df_R_RS_left, \\\n",
    "                                                                   l_mouse_green_by_blue, m_mouse_green_by_blue, r_mouse_green_by_blue, \\\n",
    "                                                                   interaction_window, interaction_order, \\\n",
    "                                                                   title='Activities RS left')"
   ]
  },
  {
   "cell_type": "code",
   "execution_count": null,
   "metadata": {},
   "outputs": [],
   "source": [
    "corr_series_ML, corr_series_MR, corr_series_LR = RegionCorrelation(df_L_RS_left, df_M_RS_left, df_R_RS_left, \\\n",
    "                                                                   l_mouse_green_by_blue, m_mouse_green_by_blue, r_mouse_green_by_blue, \\\n",
    "                                                                   interaction_window, interaction_order, \\\n",
    "                                                                   title='RS left')"
   ]
  },
  {
   "cell_type": "code",
   "execution_count": null,
   "metadata": {},
   "outputs": [],
   "source": [
    "RegionCorrelationTrend(df_L_RS_left, df_M_RS_left, df_R_RS_left, \\\n",
    "                                                                   l_mouse_green_by_blue, m_mouse_green_by_blue, r_mouse_green_by_blue, \\\n",
    "                                                                   interaction_window, interaction_order, \\\n",
    "                                                                   title='RS left')"
   ]
  },
  {
   "cell_type": "code",
   "execution_count": null,
   "metadata": {},
   "outputs": [],
   "source": [
    "activity_series_L, activity_series_M, activity_series_R = RegionActivity(df_L_RS_right, df_M_RS_right, df_R_RS_right, \\\n",
    "                                                                   l_mouse_green_by_blue, m_mouse_green_by_blue, r_mouse_green_by_blue, \\\n",
    "                                                                   interaction_window, interaction_order, \\\n",
    "                                                                   title='Activities RS right')"
   ]
  },
  {
   "cell_type": "code",
   "execution_count": null,
   "metadata": {},
   "outputs": [],
   "source": [
    "corr_series_ML, corr_series_MR, corr_series_LR = RegionCorrelation(df_L_RS_right, df_M_RS_right, df_R_RS_right, \\\n",
    "                                                                   l_mouse_green_by_blue, m_mouse_green_by_blue, r_mouse_green_by_blue, \\\n",
    "                                                                   interaction_window, interaction_order, \\\n",
    "                                                                   title='RS right')"
   ]
  },
  {
   "cell_type": "code",
   "execution_count": null,
   "metadata": {},
   "outputs": [],
   "source": [
    "RegionCorrelationTrend(df_L_RS_right, df_M_RS_right, df_R_RS_right, \\\n",
    "                                                                   l_mouse_green_by_blue, m_mouse_green_by_blue, r_mouse_green_by_blue, \\\n",
    "                                                                   interaction_window, interaction_order, \\\n",
    "                                                                   title='RS right')"
   ]
  },
  {
   "cell_type": "markdown",
   "metadata": {},
   "source": [
    "## PtA"
   ]
  },
  {
   "cell_type": "code",
   "execution_count": 54,
   "metadata": {},
   "outputs": [],
   "source": [
    "df_R_PtA_left = df_data_R[(df_data_R['side']=='left')&(df_data_R['label']==8)]\n",
    "df_M_PtA_left = df_data_M[(df_data_M['side']=='left')&(df_data_M['label']==8)]\n",
    "df_L_PtA_left = df_data_L[(df_data_L['side']=='left')&(df_data_L['label']==8)]\n",
    "df_R_PtA_right = df_data_R[(df_data_R['side']=='right')&(df_data_R['label']==8)]\n",
    "df_M_PtA_right = df_data_M[(df_data_M['side']=='right')&(df_data_M['label']==8)]\n",
    "df_L_PtA_right = df_data_L[(df_data_L['side']=='right')&(df_data_L['label']==8)]"
   ]
  },
  {
   "cell_type": "code",
   "execution_count": null,
   "metadata": {},
   "outputs": [],
   "source": [
    "activity_series_L, activity_series_M, activity_series_R = RegionActivity(df_L_PtA_left, df_M_PtA_left, df_R_PtA_left, \\\n",
    "                                                                   l_mouse_green_by_blue, m_mouse_green_by_blue, r_mouse_green_by_blue, \\\n",
    "                                                                   interaction_window, interaction_order, \\\n",
    "                                                                   title='Activities PtA left')"
   ]
  },
  {
   "cell_type": "code",
   "execution_count": null,
   "metadata": {},
   "outputs": [],
   "source": [
    "corr_series_ML, corr_series_MR, corr_series_LR = RegionCorrelation(df_L_PtA_left, df_M_PtA_left, df_R_PtA_left, \\\n",
    "                                                                   l_mouse_green_by_blue, m_mouse_green_by_blue, r_mouse_green_by_blue, \\\n",
    "                                                                   interaction_window, interaction_order, \\\n",
    "                                                                   title='PtA left')"
   ]
  },
  {
   "cell_type": "code",
   "execution_count": null,
   "metadata": {},
   "outputs": [],
   "source": [
    "RegionCorrelationTrend(df_L_PtA_left, df_M_PtA_left, df_R_PtA_left, \\\n",
    "                                                                   l_mouse_green_by_blue, m_mouse_green_by_blue, r_mouse_green_by_blue, \\\n",
    "                                                                   interaction_window, interaction_order, \\\n",
    "                                                                   title='PtA left')"
   ]
  },
  {
   "cell_type": "code",
   "execution_count": null,
   "metadata": {},
   "outputs": [],
   "source": [
    "activity_series_L, activity_series_M, activity_series_R = RegionActivity(df_L_PtA_right, df_M_PtA_right, df_R_PtA_right, \\\n",
    "                                                                   l_mouse_green_by_blue, m_mouse_green_by_blue, r_mouse_green_by_blue, \\\n",
    "                                                                   interaction_window, interaction_order, \\\n",
    "                                                                   title='Activities PtA right')"
   ]
  },
  {
   "cell_type": "code",
   "execution_count": null,
   "metadata": {},
   "outputs": [],
   "source": [
    "corr_series_ML, corr_series_MR, corr_series_LR = RegionCorrelation(df_L_PtA_right, df_M_PtA_right, df_R_PtA_right, \\\n",
    "                                                                   l_mouse_green_by_blue, m_mouse_green_by_blue, r_mouse_green_by_blue, \\\n",
    "                                                                   interaction_window, interaction_order, \\\n",
    "                                                                   title='PtA right')"
   ]
  },
  {
   "cell_type": "code",
   "execution_count": null,
   "metadata": {},
   "outputs": [],
   "source": [
    "RegionCorrelationTrend(df_L_PtA_right, df_M_PtA_right, df_R_PtA_right, \\\n",
    "                                                                   l_mouse_green_by_blue, m_mouse_green_by_blue, r_mouse_green_by_blue, \\\n",
    "                                                                   interaction_window, interaction_order, \\\n",
    "                                                                   title='PtA right')"
   ]
  },
  {
   "cell_type": "markdown",
   "metadata": {},
   "source": [
    "## HL"
   ]
  },
  {
   "cell_type": "code",
   "execution_count": 61,
   "metadata": {},
   "outputs": [],
   "source": [
    "df_R_HL_left = df_data_R[(df_data_R['side']=='left')&(df_data_R['label']==7)]\n",
    "df_M_HL_left = df_data_M[(df_data_M['side']=='left')&(df_data_M['label']==7)]\n",
    "df_L_HL_left = df_data_L[(df_data_L['side']=='left')&(df_data_L['label']==7)]\n",
    "df_R_HL_right = df_data_R[(df_data_R['side']=='right')&(df_data_R['label']==7)]\n",
    "df_M_HL_right = df_data_M[(df_data_M['side']=='right')&(df_data_M['label']==7)]\n",
    "df_L_HL_right = df_data_L[(df_data_L['side']=='right')&(df_data_L['label']==7)]"
   ]
  },
  {
   "cell_type": "code",
   "execution_count": null,
   "metadata": {},
   "outputs": [],
   "source": [
    "activity_series_L, activity_series_M, activity_series_R = RegionActivity(df_L_HL_left, df_M_HL_left, df_R_HL_left, \\\n",
    "                                                                   l_mouse_green_by_blue, m_mouse_green_by_blue, r_mouse_green_by_blue, \\\n",
    "                                                                   interaction_window, interaction_order, \\\n",
    "                                                                   title='Activities HL left')"
   ]
  },
  {
   "cell_type": "code",
   "execution_count": null,
   "metadata": {},
   "outputs": [],
   "source": [
    "corr_series_ML, corr_series_MR, corr_series_LR = RegionCorrelation(df_L_HL_left, df_M_HL_left, df_R_HL_left, \\\n",
    "                                                                   l_mouse_green_by_blue, m_mouse_green_by_blue, r_mouse_green_by_blue, \\\n",
    "                                                                   interaction_window, interaction_order, \\\n",
    "                                                                   title='HL left')"
   ]
  },
  {
   "cell_type": "code",
   "execution_count": null,
   "metadata": {},
   "outputs": [],
   "source": [
    "RegionCorrelationTrend(df_L_HL_left, df_M_HL_left, df_R_HL_left, \\\n",
    "                                                                   l_mouse_green_by_blue, m_mouse_green_by_blue, r_mouse_green_by_blue, \\\n",
    "                                                                   interaction_window, interaction_order, \\\n",
    "                                                                   title='HL left')"
   ]
  },
  {
   "cell_type": "code",
   "execution_count": null,
   "metadata": {},
   "outputs": [],
   "source": [
    "activity_series_L, activity_series_M, activity_series_R = RegionActivity(df_L_HL_right, df_M_HL_right, df_R_HL_right, \\\n",
    "                                                                   l_mouse_green_by_blue, m_mouse_green_by_blue, r_mouse_green_by_blue, \\\n",
    "                                                                   interaction_window, interaction_order, \\\n",
    "                                                                   title='Activities HL right')"
   ]
  },
  {
   "cell_type": "code",
   "execution_count": null,
   "metadata": {},
   "outputs": [],
   "source": [
    "corr_series_ML, corr_series_MR, corr_series_LR = RegionCorrelation(df_L_HL_right, df_M_HL_right, df_R_HL_right, \\\n",
    "                                                                   l_mouse_green_by_blue, m_mouse_green_by_blue, r_mouse_green_by_blue, \\\n",
    "                                                                   interaction_window, interaction_order, \\\n",
    "                                                                   title='HL right')"
   ]
  },
  {
   "cell_type": "code",
   "execution_count": null,
   "metadata": {},
   "outputs": [],
   "source": [
    "RegionCorrelationTrend(df_L_HL_left, df_M_HL_left, df_R_HL_left, \\\n",
    "                                                                   l_mouse_green_by_blue, m_mouse_green_by_blue, r_mouse_green_by_blue, \\\n",
    "                                                                   interaction_window, interaction_order, \\\n",
    "                                                                   title='HL left')"
   ]
  },
  {
   "cell_type": "markdown",
   "metadata": {},
   "source": [
    "## FL"
   ]
  },
  {
   "cell_type": "code",
   "execution_count": 68,
   "metadata": {},
   "outputs": [],
   "source": [
    "df_R_FL_left = df_data_R[(df_data_R['side']=='left')&(df_data_R['label']==6)]\n",
    "df_M_FL_left = df_data_M[(df_data_M['side']=='left')&(df_data_M['label']==6)]\n",
    "df_L_FL_left = df_data_L[(df_data_L['side']=='left')&(df_data_L['label']==6)]\n",
    "df_R_FL_right = df_data_R[(df_data_R['side']=='right')&(df_data_R['label']==6)]\n",
    "df_M_FL_right = df_data_M[(df_data_M['side']=='right')&(df_data_M['label']==6)]\n",
    "df_L_FL_right = df_data_L[(df_data_L['side']=='right')&(df_data_L['label']==6)]"
   ]
  },
  {
   "cell_type": "code",
   "execution_count": null,
   "metadata": {},
   "outputs": [],
   "source": [
    "activity_series_L, activity_series_M, activity_series_R = RegionActivity(df_L_FL_left, df_M_FL_left, df_R_FL_left, \\\n",
    "                                                                   l_mouse_green_by_blue, m_mouse_green_by_blue, r_mouse_green_by_blue, \\\n",
    "                                                                   interaction_window, interaction_order, \\\n",
    "                                                                   title='Activities FL left')"
   ]
  },
  {
   "cell_type": "code",
   "execution_count": null,
   "metadata": {},
   "outputs": [],
   "source": [
    "corr_series_ML, corr_series_MR, corr_series_LR = RegionCorrelation(df_L_FL_left, df_M_FL_left, df_R_FL_left, \\\n",
    "                                                                   l_mouse_green_by_blue, m_mouse_green_by_blue, r_mouse_green_by_blue, \\\n",
    "                                                                   interaction_window, interaction_order, \\\n",
    "                                                                   title='FL left')"
   ]
  },
  {
   "cell_type": "code",
   "execution_count": null,
   "metadata": {},
   "outputs": [],
   "source": [
    "RegionCorrelationTrend(df_L_FL_left, df_M_FL_left, df_R_FL_left, \\\n",
    "                                                                   l_mouse_green_by_blue, m_mouse_green_by_blue, r_mouse_green_by_blue, \\\n",
    "                                                                   interaction_window, interaction_order, \\\n",
    "                                                                   title='FL left')"
   ]
  },
  {
   "cell_type": "code",
   "execution_count": null,
   "metadata": {},
   "outputs": [],
   "source": [
    "activity_series_L, activity_series_M, activity_series_R = RegionActivity(df_L_FL_right, df_M_FL_right, df_R_FL_right, \\\n",
    "                                                                   l_mouse_green_by_blue, m_mouse_green_by_blue, r_mouse_green_by_blue, \\\n",
    "                                                                   interaction_window, interaction_order, \\\n",
    "                                                                   title='Activities FL right')"
   ]
  },
  {
   "cell_type": "code",
   "execution_count": null,
   "metadata": {},
   "outputs": [],
   "source": [
    "corr_series_ML, corr_series_MR, corr_series_LR = RegionCorrelation(df_L_FL_right, df_M_FL_right, df_R_FL_right, \\\n",
    "                                                                   l_mouse_green_by_blue, m_mouse_green_by_blue, r_mouse_green_by_blue, \\\n",
    "                                                                   interaction_window, interaction_order, \\\n",
    "                                                                   title='FL right')"
   ]
  },
  {
   "cell_type": "code",
   "execution_count": null,
   "metadata": {},
   "outputs": [],
   "source": [
    "RegionCorrelationTrend(df_L_FL_right, df_M_FL_right, df_R_FL_right, \\\n",
    "                                                                   l_mouse_green_by_blue, m_mouse_green_by_blue, r_mouse_green_by_blue, \\\n",
    "                                                                   interaction_window, interaction_order, \\\n",
    "                                                                   title='FL right')"
   ]
  },
  {
   "cell_type": "markdown",
   "metadata": {},
   "source": [
    "## wM1"
   ]
  },
  {
   "cell_type": "code",
   "execution_count": 24,
   "metadata": {},
   "outputs": [],
   "source": [
    "df_R_wM1_left = df_data_R[(df_data_R['side']=='left')&(df_data_R['label']==5)]\n",
    "df_M_wM1_left = df_data_M[(df_data_M['side']=='left')&(df_data_M['label']==5)]\n",
    "df_L_wM1_left = df_data_L[(df_data_L['side']=='left')&(df_data_L['label']==5)]\n",
    "df_R_wM1_right = df_data_R[(df_data_R['side']=='right')&(df_data_R['label']==5)]\n",
    "df_M_wM1_right = df_data_M[(df_data_M['side']=='right')&(df_data_M['label']==5)]\n",
    "df_L_wM1_right = df_data_L[(df_data_L['side']=='right')&(df_data_L['label']==5)]"
   ]
  },
  {
   "cell_type": "code",
   "execution_count": null,
   "metadata": {},
   "outputs": [],
   "source": [
    "activity_series_L, activity_series_M, activity_series_R = RegionActivity(df_L_wM1_left, df_M_wM1_left, df_R_wM1_left, \\\n",
    "                                                                   l_mouse_green_by_blue, m_mouse_green_by_blue, r_mouse_green_by_blue, \\\n",
    "                                                                   interaction_window, interaction_order, \\\n",
    "                                                                   title='Activities wM1 left')"
   ]
  },
  {
   "cell_type": "code",
   "execution_count": null,
   "metadata": {},
   "outputs": [],
   "source": [
    "corr_series_ML, corr_series_MR, corr_series_LR = RegionCorrelation(df_L_wM1_left, df_M_wM1_left, df_R_wM1_left, \\\n",
    "                                                                   l_mouse_green_by_blue, m_mouse_green_by_blue, r_mouse_green_by_blue, \\\n",
    "                                                                   interaction_window, interaction_order, \\\n",
    "                                                                   title='wM1 left')"
   ]
  },
  {
   "cell_type": "code",
   "execution_count": null,
   "metadata": {},
   "outputs": [],
   "source": [
    "RegionCorrelationTrend(df_L_wM1_left, df_M_wM1_left, df_R_wM1_left, \\\n",
    "                                                                   l_mouse_green_by_blue, m_mouse_green_by_blue, r_mouse_green_by_blue, \\\n",
    "                                                                   interaction_window, interaction_order, \\\n",
    "                                                                   title='wM1 left')"
   ]
  },
  {
   "cell_type": "code",
   "execution_count": null,
   "metadata": {},
   "outputs": [],
   "source": [
    "activity_series_L, activity_series_M, activity_series_R = RegionActivity(df_L_wM1_right, df_M_wM1_right, df_R_wM1_right, \\\n",
    "                                                                   l_mouse_green_by_blue, m_mouse_green_by_blue, r_mouse_green_by_blue, \\\n",
    "                                                                   interaction_window, interaction_order, \\\n",
    "                                                                   title='Activities wM1 right')"
   ]
  },
  {
   "cell_type": "code",
   "execution_count": null,
   "metadata": {},
   "outputs": [],
   "source": [
    "corr_series_ML, corr_series_MR, corr_series_LR = RegionCorrelation(df_L_wM1_right, df_M_wM1_right, df_R_wM1_right, \\\n",
    "                                                                   l_mouse_green_by_blue, m_mouse_green_by_blue, r_mouse_green_by_blue, \\\n",
    "                                                                   interaction_window, interaction_order, \\\n",
    "                                                                   title='wM1 right')"
   ]
  },
  {
   "cell_type": "code",
   "execution_count": null,
   "metadata": {},
   "outputs": [],
   "source": [
    "RegionCorrelationTrend(df_L_wM1_right, df_M_wM1_right, df_R_wM1_right, \\\n",
    "                                                                   l_mouse_green_by_blue, m_mouse_green_by_blue, r_mouse_green_by_blue, \\\n",
    "                                                                   interaction_window, interaction_order, \\\n",
    "                                                                   title='Activities wM1 right')"
   ]
  },
  {
   "cell_type": "markdown",
   "metadata": {},
   "source": [
    "## ALM"
   ]
  },
  {
   "cell_type": "code",
   "execution_count": 31,
   "metadata": {},
   "outputs": [],
   "source": [
    "df_R_ALM_left = df_data_R[(df_data_R['side']=='left')&(df_data_R['label']==4)]\n",
    "df_M_ALM_left = df_data_M[(df_data_M['side']=='left')&(df_data_M['label']==4)]\n",
    "df_L_ALM_left = df_data_L[(df_data_L['side']=='left')&(df_data_L['label']==4)]\n",
    "df_R_ALM_right = df_data_R[(df_data_R['side']=='right')&(df_data_R['label']==4)]\n",
    "df_M_ALM_right = df_data_M[(df_data_M['side']=='right')&(df_data_M['label']==4)]\n",
    "df_L_ALM_right = df_data_L[(df_data_L['side']=='right')&(df_data_L['label']==4)]"
   ]
  },
  {
   "cell_type": "code",
   "execution_count": null,
   "metadata": {},
   "outputs": [],
   "source": [
    "activity_series_L, activity_series_M, activity_series_R = RegionActivity(df_L_ALM_left, df_M_ALM_left, df_R_ALM_left, \\\n",
    "                                                                   l_mouse_green_by_blue, m_mouse_green_by_blue, r_mouse_green_by_blue, \\\n",
    "                                                                   interaction_window, interaction_order, \\\n",
    "                                                                   title='Activities ALM left')"
   ]
  },
  {
   "cell_type": "code",
   "execution_count": null,
   "metadata": {},
   "outputs": [],
   "source": [
    "corr_series_ML, corr_series_MR, corr_series_LR = RegionCorrelation(df_L_ALM_left, df_M_ALM_left, df_R_ALM_left, \\\n",
    "                                                                   l_mouse_green_by_blue, m_mouse_green_by_blue, r_mouse_green_by_blue, \\\n",
    "                                                                   interaction_window, interaction_order, \\\n",
    "                                                                   title='ALM left')"
   ]
  },
  {
   "cell_type": "code",
   "execution_count": null,
   "metadata": {},
   "outputs": [],
   "source": [
    "RegionCorrelationTrend(df_L_ALM_left, df_M_ALM_left, df_R_ALM_left, \\\n",
    "                                                                   l_mouse_green_by_blue, m_mouse_green_by_blue, r_mouse_green_by_blue, \\\n",
    "                                                                   interaction_window, interaction_order, \\\n",
    "                                                                   title='ALM left')"
   ]
  },
  {
   "cell_type": "code",
   "execution_count": null,
   "metadata": {},
   "outputs": [],
   "source": [
    "activity_series_L, activity_series_M, activity_series_R = RegionActivity(df_L_ALM_right, df_M_ALM_right, df_R_ALM_right, \\\n",
    "                                                                   l_mouse_green_by_blue, m_mouse_green_by_blue, r_mouse_green_by_blue, \\\n",
    "                                                                   interaction_window, interaction_order, \\\n",
    "                                                                   title='Activities ALM right')"
   ]
  },
  {
   "cell_type": "code",
   "execution_count": null,
   "metadata": {},
   "outputs": [],
   "source": [
    "corr_series_ML, corr_series_MR, corr_series_LR = RegionCorrelation(df_L_ALM_right, df_M_ALM_right, df_R_ALM_right, \\\n",
    "                                                                   l_mouse_green_by_blue, m_mouse_green_by_blue, r_mouse_green_by_blue, \\\n",
    "                                                                   interaction_window, interaction_order, \\\n",
    "                                                                   title='ALM right')"
   ]
  },
  {
   "cell_type": "code",
   "execution_count": null,
   "metadata": {},
   "outputs": [],
   "source": [
    "RegionCorrelationTrend(df_L_ALM_right, df_M_ALM_right, df_R_ALM_right, \\\n",
    "                                                                   l_mouse_green_by_blue, m_mouse_green_by_blue, r_mouse_green_by_blue, \\\n",
    "                                                                   interaction_window, interaction_order, \\\n",
    "                                                                   title='ALM right')"
   ]
  },
  {
   "cell_type": "markdown",
   "metadata": {},
   "source": [
    "## M2"
   ]
  },
  {
   "cell_type": "code",
   "execution_count": 38,
   "metadata": {},
   "outputs": [],
   "source": [
    "df_R_M2_left = df_data_R[(df_data_R['side']=='left')&(df_data_R['label']==3)]\n",
    "df_M_M2_left = df_data_M[(df_data_M['side']=='left')&(df_data_M['label']==3)]\n",
    "df_L_M2_left = df_data_L[(df_data_L['side']=='left')&(df_data_L['label']==3)]\n",
    "df_R_M2_right = df_data_R[(df_data_R['side']=='right')&(df_data_R['label']==3)]\n",
    "df_M_M2_right = df_data_M[(df_data_M['side']=='right')&(df_data_M['label']==3)]\n",
    "df_L_M2_right = df_data_L[(df_data_L['side']=='right')&(df_data_L['label']==3)]"
   ]
  },
  {
   "cell_type": "code",
   "execution_count": null,
   "metadata": {},
   "outputs": [],
   "source": [
    "activity_series_L, activity_series_M, activity_series_R = RegionActivity(df_L_M2_left, df_M_M2_left, df_R_M2_left, \\\n",
    "                                                                   l_mouse_green_by_blue, m_mouse_green_by_blue, r_mouse_green_by_blue, \\\n",
    "                                                                   interaction_window, interaction_order, \\\n",
    "                                                                   title='Activities M2 left')"
   ]
  },
  {
   "cell_type": "code",
   "execution_count": null,
   "metadata": {},
   "outputs": [],
   "source": [
    "corr_series_ML, corr_series_MR, corr_series_LR = RegionCorrelation(df_L_M2_left, df_M_M2_left, df_R_M2_left, \\\n",
    "                                                                   l_mouse_green_by_blue, m_mouse_green_by_blue, r_mouse_green_by_blue, \\\n",
    "                                                                   interaction_window, interaction_order, \\\n",
    "                                                                   title='M2 left')"
   ]
  },
  {
   "cell_type": "code",
   "execution_count": null,
   "metadata": {},
   "outputs": [],
   "source": [
    "RegionCorrelationTrend(df_L_M2_left, df_M_M2_left, df_R_M2_left, \\\n",
    "                                                                   l_mouse_green_by_blue, m_mouse_green_by_blue, r_mouse_green_by_blue, \\\n",
    "                                                                   interaction_window, interaction_order, \\\n",
    "                                                                   title='M2 left')"
   ]
  },
  {
   "cell_type": "code",
   "execution_count": null,
   "metadata": {},
   "outputs": [],
   "source": [
    "activity_series_L, activity_series_M, activity_series_R = RegionActivity(df_L_M2_right, df_M_M2_right, df_R_M2_right, \\\n",
    "                                                                   l_mouse_green_by_blue, m_mouse_green_by_blue, r_mouse_green_by_blue, \\\n",
    "                                                                   interaction_window, interaction_order, \\\n",
    "                                                                   title='Activities M2 right')"
   ]
  },
  {
   "cell_type": "code",
   "execution_count": null,
   "metadata": {},
   "outputs": [],
   "source": [
    "corr_series_ML, corr_series_MR, corr_series_LR = RegionCorrelation(df_L_M2_right, df_M_M2_right, df_R_M2_right, \\\n",
    "                                                                   l_mouse_green_by_blue, m_mouse_green_by_blue, r_mouse_green_by_blue, \\\n",
    "                                                                   interaction_window, interaction_order, \\\n",
    "                                                                   title='M2 right')"
   ]
  },
  {
   "cell_type": "code",
   "execution_count": null,
   "metadata": {},
   "outputs": [],
   "source": [
    "RegionCorrelationTrend(df_L_M2_right, df_M_M2_right, df_R_M2_right, \\\n",
    "                                                                   l_mouse_green_by_blue, m_mouse_green_by_blue, r_mouse_green_by_blue, \\\n",
    "                                                                   interaction_window, interaction_order, \\\n",
    "                                                                   title='M2 right')"
   ]
  },
  {
   "cell_type": "markdown",
   "metadata": {},
   "source": [
    "## Whole Brain"
   ]
  },
  {
   "cell_type": "code",
   "execution_count": null,
   "metadata": {},
   "outputs": [],
   "source": [
    "activity_series_L, activity_series_M, activity_series_R = RegionActivity(df_data_L[df_data_L['label']!=1], \\\n",
    "                                                                         df_data_M[df_data_M['label']!=1], \\\n",
    "                                                                         df_data_R[df_data_R['label']!=1], \\\n",
    "                                                                   l_mouse_green_by_blue, m_mouse_green_by_blue, r_mouse_green_by_blue, \\\n",
    "                                                                   interaction_window, interaction_order, \\\n",
    "                                                                   title='Activities Whole Brain')"
   ]
  },
  {
   "cell_type": "code",
   "execution_count": null,
   "metadata": {},
   "outputs": [],
   "source": [
    "corr_series_ML, corr_series_MR, corr_series_LR = RegionCorrelation(df_data_L[df_data_L['label']!=1], \\\n",
    "                                                                   df_data_M[df_data_M['label']!=1], \\\n",
    "                                                                   df_data_R[df_data_R['label']!=1], \\\n",
    "                                                                   l_mouse_green_by_blue, m_mouse_green_by_blue, r_mouse_green_by_blue, \\\n",
    "                                                                   interaction_window, interaction_order, \\\n",
    "                                                                   title='Whole Brain')"
   ]
  },
  {
   "cell_type": "markdown",
   "metadata": {},
   "source": [
    "## Behavior Video"
   ]
  },
  {
   "cell_type": "code",
   "execution_count": null,
   "metadata": {},
   "outputs": [],
   "source": [
    "cortical_lenth = 4479\n",
    "frames = []\n",
    "cap = cv2.VideoCapture(\"C:/Users/Haozong/OneDrive/Dual Brain/Data/20230514/20230514-whisker.avi\")\n",
    "ret = True\n",
    "while ret:\n",
    "    ret, img = cap.read() # read one frame from the 'capture' object; img is (H, W, C)\n",
    "    if ret:\n",
    "        frames.append(img)\n",
    "cap.release()"
   ]
  },
  {
   "cell_type": "code",
   "execution_count": null,
   "metadata": {},
   "outputs": [],
   "source": [
    "whisker_length = len(frames)\n",
    "video = []\n",
    "for i in range(4479):\n",
    "    k = math.ceil(i * whisker_length/cortical_lenth)\n",
    "    f = frames[k]\n",
    "    video.append(f)\n",
    "\n",
    "    \n",
    "height, width, layers = video[0].shape\n",
    "size = (width,height)\n",
    "out = cv2.VideoWriter('20230514-whisker.mp4', cv2.VideoWriter_fourcc(*'MP4V'), TRUE_FRAMERATE, size)\n",
    "for f in video:\n",
    "    out.write(f)\n",
    "out.release()\n",
    "del frames\n",
    "del video"
   ]
  },
  {
   "cell_type": "code",
   "execution_count": null,
   "metadata": {},
   "outputs": [],
   "source": [
    "frames = []\n",
    "cap = cv2.VideoCapture(\"C:/Users/Haozong/OneDrive/Dual Brain/Data/20230514/20230514-limb.avi\")\n",
    "ret = True\n",
    "while ret:\n",
    "    ret, img = cap.read() # read one frame from the 'capture' object; img is (H, W, C)\n",
    "    if ret:\n",
    "        frames.append(img)\n",
    "cap.release()"
   ]
  },
  {
   "cell_type": "code",
   "execution_count": null,
   "metadata": {},
   "outputs": [],
   "source": [
    "limb_length = len(frames)\n",
    "video = []\n",
    "for i in range(4479):\n",
    "    k = round(i * limb_length/cortical_lenth)\n",
    "    f = frames[k]\n",
    "    video.append(f)\n",
    "\n",
    "height, width, layers = video[0].shape\n",
    "size = (width,height)\n",
    "out = cv2.VideoWriter('20230514-limb.mp4', cv2.VideoWriter_fourcc(*'MP4V'), TRUE_FRAMERATE, size)\n",
    "for f in video:\n",
    "    out.write(f)\n",
    "out.release()\n",
    "del frames\n",
    "del video"
   ]
  },
  {
   "cell_type": "code",
   "execution_count": null,
   "metadata": {},
   "outputs": [],
   "source": [
    "frames = []\n",
    "cap = cv2.VideoCapture(\"C:/Users/Haozong/OneDrive/Dual Brain/Data/20230514/Result of Result of 2023_5_14_16_L_919106.avi\")\n",
    "ret = True\n",
    "while ret:\n",
    "    ret, img = cap.read() # read one frame from the 'capture' object; img is (H, W, C)\n",
    "    if ret:\n",
    "        frames.append(img)\n",
    "cap.release()"
   ]
  },
  {
   "cell_type": "code",
   "execution_count": null,
   "metadata": {},
   "outputs": [],
   "source": [
    "height, width, layers = frames[0].shape\n",
    "size = (width,height)\n",
    "out = cv2.VideoWriter('Result of Result of 2023_5_14_16_L_919106.mp4', cv2.VideoWriter_fourcc(*'MP4V'), 30, size)\n",
    "for f in frames:\n",
    "    out.write(f)\n",
    "out.release()\n",
    "del frames"
   ]
  },
  {
   "cell_type": "code",
   "execution_count": null,
   "metadata": {},
   "outputs": [],
   "source": []
  }
 ],
 "metadata": {
  "kernelspec": {
   "display_name": "Python 3 (ipykernel)",
   "language": "python",
   "name": "python3"
  },
  "language_info": {
   "codemirror_mode": {
    "name": "ipython",
    "version": 3
   },
   "file_extension": ".py",
   "mimetype": "text/x-python",
   "name": "python",
   "nbconvert_exporter": "python",
   "pygments_lexer": "ipython3",
   "version": "3.8.18"
  },
  "pycharm": {
   "stem_cell": {
    "cell_type": "raw",
    "metadata": {
     "collapsed": false
    },
    "source": []
   }
  }
 },
 "nbformat": 4,
 "nbformat_minor": 2
}
